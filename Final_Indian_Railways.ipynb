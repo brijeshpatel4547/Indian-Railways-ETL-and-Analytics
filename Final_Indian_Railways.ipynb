{
 "cells": [
  {
   "cell_type": "code",
   "execution_count": 0,
   "metadata": {
    "application/vnd.databricks.v1+cell": {
     "cellMetadata": {
      "byteLimit": 2048000,
      "rowLimit": 10000
     },
     "inputWidgets": {},
     "nuid": "4b6e492c-840e-4404-ae75-7d1e41edf191",
     "showTitle": true,
     "tableResultSettingsMap": {},
     "title": "Import Packages"
    }
   },
   "outputs": [],
   "source": [
    "from pyspark.sql import SparkSession\n",
    "from pyspark.sql.functions import inline,col"
   ]
  },
  {
   "cell_type": "markdown",
   "metadata": {
    "application/vnd.databricks.v1+cell": {
     "cellMetadata": {},
     "inputWidgets": {},
     "nuid": "2f80abac-e2c1-46ad-9e7c-ddf01cfef53b",
     "showTitle": false,
     "tableResultSettingsMap": {},
     "title": ""
    }
   },
   "source": [
    "### Files Available:\n",
    "- schedules.json - dbfs:/FileStore/shared_uploads/brijeshpatel4547@gmail.com/Indian_Rail/schedules.json \n",
    "- stations.json - dbfs:/FileStore/shared_uploads/brijeshpatel4547@gmail.com/Indian_Rail/stations.json\n",
    "- trains.json - dbfs:/FileStore/shared_uploads/brijeshpatel4547@gmail.com/Indian_Rail/trains.json"
   ]
  },
  {
   "cell_type": "markdown",
   "metadata": {
    "application/vnd.databricks.v1+cell": {
     "cellMetadata": {},
     "inputWidgets": {},
     "nuid": "177c9b63-b025-46de-bed5-e52dfb9bb940",
     "showTitle": false,
     "tableResultSettingsMap": {},
     "title": ""
    }
   },
   "source": [
    "# Perform Below Tasks on the Data\n",
    "- > Reading JSON Data Files into dataframe and apply transformations as per the requirement to make to Structered Data.\n",
    "- > List their columns to understand the structure of each dataframe."
   ]
  },
  {
   "cell_type": "markdown",
   "metadata": {
    "application/vnd.databricks.v1+cell": {
     "cellMetadata": {},
     "inputWidgets": {},
     "nuid": "a44d5562-b146-4aed-a2d5-e178e8bdef9f",
     "showTitle": false,
     "tableResultSettingsMap": {},
     "title": ""
    }
   },
   "source": [
    "> **schedules.json - Normal JSON File Has info about the schedule of trains**"
   ]
  },
  {
   "cell_type": "code",
   "execution_count": 0,
   "metadata": {
    "application/vnd.databricks.v1+cell": {
     "cellMetadata": {
      "byteLimit": 2048000,
      "rowLimit": 10000
     },
     "inputWidgets": {},
     "nuid": "982c8974-8a14-4b2b-8985-d2144d9a03e5",
     "showTitle": true,
     "tableResultSettingsMap": {},
     "title": "Read Schedules Data"
    }
   },
   "outputs": [
    {
     "output_type": "execute_result",
     "data": {
      "text/plain": [
       "['arrival',\n",
       " 'day',\n",
       " 'departure',\n",
       " 'id',\n",
       " 'station_code',\n",
       " 'station_name',\n",
       " 'train_name',\n",
       " 'train_number']"
      ]
     },
     "execution_count": 30,
     "metadata": {},
     "output_type": "execute_result"
    }
   ],
   "source": [
    "# Import schedules.json file\n",
    "schedules_df = spark.read.option(\"multiline\",\"true\").json(\"dbfs:/FileStore/shared_uploads/brijeshpatel4547@gmail.com/Indian_Rail/schedules.json\")\n",
    "schedules_df.columns"
   ]
  },
  {
   "cell_type": "markdown",
   "metadata": {
    "application/vnd.databricks.v1+cell": {
     "cellMetadata": {},
     "inputWidgets": {},
     "nuid": "bb0665da-fcf2-4367-9bcc-3b518ba6064e",
     "showTitle": false,
     "tableResultSettingsMap": {},
     "title": ""
    }
   },
   "source": [
    "> **stations.json - GeoJSON file including information of Stations in India**"
   ]
  },
  {
   "cell_type": "code",
   "execution_count": 0,
   "metadata": {
    "application/vnd.databricks.v1+cell": {
     "cellMetadata": {
      "byteLimit": 2048000,
      "rowLimit": 10000
     },
     "inputWidgets": {},
     "nuid": "209b22d6-f4b4-4785-bdbb-b26823bf1eb8",
     "showTitle": true,
     "tableResultSettingsMap": {},
     "title": "Read and Trasnform Statiosn data"
    }
   },
   "outputs": [
    {
     "output_type": "stream",
     "name": "stdout",
     "output_type": "stream",
     "text": [
      "**********************************************************************************************************\nSchema Before Transformation:\nroot\n |-- features: array (nullable = true)\n |    |-- element: struct (containsNull = true)\n |    |    |-- geometry: struct (nullable = true)\n |    |    |    |-- coordinates: array (nullable = true)\n |    |    |    |    |-- element: double (containsNull = true)\n |    |    |    |-- type: string (nullable = true)\n |    |    |-- properties: struct (nullable = true)\n |    |    |    |-- address: string (nullable = true)\n |    |    |    |-- code: string (nullable = true)\n |    |    |    |-- name: string (nullable = true)\n |    |    |    |-- state: string (nullable = true)\n |    |    |    |-- zone: string (nullable = true)\n |    |    |-- type: string (nullable = true)\n |-- type: string (nullable = true)\n\n\n**********************************************************************************************************\nSchema After Inline Trasnformation:\nroot\n |-- geometry: struct (nullable = true)\n |    |-- coordinates: array (nullable = true)\n |    |    |-- element: double (containsNull = true)\n |    |-- type: string (nullable = true)\n |-- properties: struct (nullable = true)\n |    |-- address: string (nullable = true)\n |    |-- code: string (nullable = true)\n |    |-- name: string (nullable = true)\n |    |-- state: string (nullable = true)\n |    |-- zone: string (nullable = true)\n\n\n**********************************************************************************************************\nFinal Schema:\nroot\n |-- Stn_Code: string (nullable = true)\n |-- Stn_Name: string (nullable = true)\n |-- Stn_Coordinates: array (nullable = true)\n |    |-- element: double (containsNull = true)\n |-- Address: string (nullable = true)\n |-- Stn_State: string (nullable = true)\n |-- Stn_Zone: string (nullable = true)\n\n\n**********************************************************************************************************\n\nSample Data: \n+--------+--------+-------------------------------+----------------------------+-------------+--------+\n|Stn_Code|Stn_Name|Stn_Coordinates                |Address                     |Stn_State    |Stn_Zone|\n+--------+--------+-------------------------------+----------------------------+-------------+--------+\n|BDHL    |Badhal  |[75.4516454, 27.2520587]       |Kishangarh Renwal, Rajasthan|Rajasthan    |NWR     |\n|XX-BECE |XX-BECE |NULL                           |NULL                        |NULL         |NULL    |\n|XX-BSPY |XX-BSPY |NULL                           |NULL                        |NULL         |NULL    |\n|YY-BPLC |YY-BPLC |NULL                           |NULL                        |NULL         |NULL    |\n|KHH     |KICHHA  |[79.519746, 28.913427000000002]|Kichha, Uttar Pradesh       |Uttar Pradesh|NER     |\n+--------+--------+-------------------------------+----------------------------+-------------+--------+\nonly showing top 5 rows\n\n"
     ]
    }
   ],
   "source": [
    "#Importing stations.json file\n",
    "stations_df = spark.read.option(\"multiline\",\"true\").json(\"dbfs:/FileStore/shared_uploads/brijeshpatel4547@gmail.com/Indian_Rail/stations.json\")\n",
    "print(\"**********************************************************************************************************\")\n",
    "print(\"Schema Before Transformation:\")\n",
    "stations_df.printSchema()\n",
    "print()\n",
    "print(\"**********************************************************************************************************\")\n",
    "\n",
    "\n",
    "# As we have array of structs we can simplify this using inline transformation.\n",
    "stations_df = stations_df.select(\n",
    "    inline(col(\"features\"))\n",
    ").drop(\"type\")\n",
    "print(\"Schema After Inline Trasnformation:\")\n",
    "stations_df.printSchema()\n",
    "print()\n",
    "print(\"**********************************************************************************************************\")\n",
    "\n",
    "# Now from the schema of the stations we can now identify the features required and export them to our final dataframe.\n",
    "\n",
    "\n",
    "stations_df = stations_df.select(\n",
    "    col(\"properties.code\").alias(\"Stn_Code\"),\n",
    "    col(\"properties.name\").alias(\"Stn_Name\"),\n",
    "    col(\"geometry.coordinates\").alias(\"Stn_Coordinates\"),\n",
    "    col(\"properties.address\").alias(\"Address\"),\n",
    "    col(\"properties.state\").alias(\"Stn_State\"),\n",
    "    col(\"properties.zone\").alias(\"Stn_Zone\")\n",
    ")\n",
    "\n",
    "print(\"Final Schema:\")\n",
    "stations_df.printSchema()\n",
    "print()\n",
    "print(\"**********************************************************************************************************\")\n",
    "print()\n",
    "\n",
    "\n",
    "print(\"Sample Data: \")\n",
    "stations_df.show(n=5,truncate=False)\n",
    "\n"
   ]
  },
  {
   "cell_type": "markdown",
   "metadata": {
    "application/vnd.databricks.v1+cell": {
     "cellMetadata": {},
     "inputWidgets": {},
     "nuid": "e0bbeeb1-7626-4c7e-b25e-32c0a56a5fe5",
     "showTitle": false,
     "tableResultSettingsMap": {},
     "title": ""
    }
   },
   "source": [
    "> trains.json - GeoJSON file including information about train routes."
   ]
  },
  {
   "cell_type": "code",
   "execution_count": 0,
   "metadata": {
    "application/vnd.databricks.v1+cell": {
     "cellMetadata": {
      "byteLimit": 2048000,
      "rowLimit": 10000
     },
     "inputWidgets": {},
     "nuid": "7b3da1d6-ebda-4134-90af-5022f1885e39",
     "showTitle": false,
     "tableResultSettingsMap": {},
     "title": ""
    }
   },
   "outputs": [
    {
     "output_type": "stream",
     "name": "stdout",
     "output_type": "stream",
     "text": [
      "**********************************************************************************************************\nSchema Before Transformation:\nroot\n |-- features: array (nullable = true)\n |    |-- element: struct (containsNull = true)\n |    |    |-- geometry: struct (nullable = true)\n |    |    |    |-- coordinates: array (nullable = true)\n |    |    |    |    |-- element: array (containsNull = true)\n |    |    |    |    |    |-- element: double (containsNull = true)\n |    |    |    |-- type: string (nullable = true)\n |    |    |-- properties: struct (nullable = true)\n |    |    |    |-- arrival: string (nullable = true)\n |    |    |    |-- chair_car: long (nullable = true)\n |    |    |    |-- classes: string (nullable = true)\n |    |    |    |-- departure: string (nullable = true)\n |    |    |    |-- distance: long (nullable = true)\n |    |    |    |-- duration_h: long (nullable = true)\n |    |    |    |-- duration_m: long (nullable = true)\n |    |    |    |-- first_ac: long (nullable = true)\n |    |    |    |-- first_class: long (nullable = true)\n |    |    |    |-- from_station_code: string (nullable = true)\n |    |    |    |-- from_station_name: string (nullable = true)\n |    |    |    |-- name: string (nullable = true)\n |    |    |    |-- number: string (nullable = true)\n |    |    |    |-- return_train: string (nullable = true)\n |    |    |    |-- second_ac: long (nullable = true)\n |    |    |    |-- sleeper: long (nullable = true)\n |    |    |    |-- third_ac: long (nullable = true)\n |    |    |    |-- to_station_code: string (nullable = true)\n |    |    |    |-- to_station_name: string (nullable = true)\n |    |    |    |-- type: string (nullable = true)\n |    |    |    |-- zone: string (nullable = true)\n |    |    |-- type: string (nullable = true)\n |-- type: string (nullable = true)\n\n\n**********************************************************************************************************\nSchema After Inline Transformation:\nroot\n |-- geometry: struct (nullable = true)\n |    |-- coordinates: array (nullable = true)\n |    |    |-- element: array (containsNull = true)\n |    |    |    |-- element: double (containsNull = true)\n |    |-- type: string (nullable = true)\n |-- properties: struct (nullable = true)\n |    |-- arrival: string (nullable = true)\n |    |-- chair_car: long (nullable = true)\n |    |-- classes: string (nullable = true)\n |    |-- departure: string (nullable = true)\n |    |-- distance: long (nullable = true)\n |    |-- duration_h: long (nullable = true)\n |    |-- duration_m: long (nullable = true)\n |    |-- first_ac: long (nullable = true)\n |    |-- first_class: long (nullable = true)\n |    |-- from_station_code: string (nullable = true)\n |    |-- from_station_name: string (nullable = true)\n |    |-- name: string (nullable = true)\n |    |-- number: string (nullable = true)\n |    |-- return_train: string (nullable = true)\n |    |-- second_ac: long (nullable = true)\n |    |-- sleeper: long (nullable = true)\n |    |-- third_ac: long (nullable = true)\n |    |-- to_station_code: string (nullable = true)\n |    |-- to_station_name: string (nullable = true)\n |    |-- type: string (nullable = true)\n |    |-- zone: string (nullable = true)\n\n\n**********************************************************************************************************\nFinal Schema:\nroot\n |-- Train_Number: long (nullable = true)\n |-- Return_Train_Number: long (nullable = true)\n |-- Train_Name: string (nullable = true)\n |-- From_Stn_Code: string (nullable = true)\n |-- From_Stn_Name: string (nullable = true)\n |-- To_Stn_Code: string (nullable = true)\n |-- To_Stn_Name: string (nullable = true)\n |-- Arrival: string (nullable = true)\n |-- Departure: string (nullable = true)\n |-- Distance: long (nullable = true)\n |-- Duration_Hrs: long (nullable = true)\n |-- Duration_Mins: long (nullable = true)\n |-- Classes: string (nullable = true)\n |-- First_Class: boolean (nullable = true)\n |-- Chair_car: boolean (nullable = true)\n |-- First_Ac: boolean (nullable = true)\n |-- Second_AC: boolean (nullable = true)\n |-- Third_AC: boolean (nullable = true)\n |-- Sleeper: boolean (nullable = true)\n |-- Type: string (nullable = true)\n |-- Zone: string (nullable = true)\n |-- Coordinates: array (nullable = true)\n |    |-- element: array (containsNull = true)\n |    |    |-- element: double (containsNull = true)\n\n\n**********************************************************************************************************\n\nSample Data: \n+------------+-------------------+---------------------------------+-------------+----------------------+-----------+-----------+--------+---------+--------+------------+-------------+-------+-----------+---------+--------+---------+--------+-------+----+----+---------------------------------------------------------------------------------------------------------------------------------------------------------------------------------------------------------------------------------------------------------------------------------------------------------------------------------------------------------------------------------------------------------------------------------------------------------------------------------------------------------------------------------------------------------------------------------------------------------------------------------------------------------------------------------------------------------------------------------------------------------------------------------------------------------------------------------------------------------------------------------------------------------------------------------------------------------------------------------------------------------------------------------------------------------------------------------------------------------------------------------------------------------------------------------------------------------------------------------------------------------------------------------------------------------------------------------------------------------------------------------------------------------------------------------------------------------------------------------------------------------------------------------------------------------------------------------------------------------------------------------------------------------------------------------------------------------------------------------------------------------------------------------------------------------------------------------------------------------------------------------------------------------------------------------------------------------------------------------------------------------------------------------------------------------------------------------------------------------------------------------------------------------------------------------------------------------------------------------------------------------------------------------------------------------------------------------------------------------------------------------------------------------------------------------------------------------------------------------------------------------------------------------------------------------------------------------------------------------------------------------------------------------------------------------------------------------------------------------------------------------------------------------------------------------------------------------------------------------------------------------------------------------------------------------------------------------------------------------------------------------------------------------------------------------------------------------------------------------------------------------------------------------------------------------------------------------------------------------------------------------------------------------------------------------------------------------------------------------------------------------------------------------------------------------------------------------------------------------------------------------------------------------------------------------------------------------------------------------------------------------------------------------------------------------------------------------------------------------------------------------------------------------------------------------------------------------------------------------------------------------------------------------------------------------------------------------------------------------------------------------------------------------------------------------------------------------------------------------------------------------------------------------------------------------------------------------------------------------------------------------------------------------------------------------------------------------------------------------------------------------------------------------------------------------------------------------------------------------------------------------------------------------------------------------------------------------------------------------------------------------------------------------------------------------------------------------------------------------------------------------------------------------------------------------------------------------------------------------------------------------------------------------------------------------------------------------------------------------------------------------------------------------------------------------------------------------------------------------------------------------------------------------------------------------------------------------------------------------------------------------------------------------------------------------------------------------------------------------------------------------------------------------------------------------------------------------------------------------------------------------------------------------------------------------------------------------------------------------------------------------------------------+\n|Train_Number|Return_Train_Number|Train_Name                       |From_Stn_Code|From_Stn_Name         |To_Stn_Code|To_Stn_Name|Arrival |Departure|Distance|Duration_Hrs|Duration_Mins|Classes|First_Class|Chair_car|First_Ac|Second_AC|Third_AC|Sleeper|Type|Zone|Coordinates                                                                                                                                                                                                                                                                                                                                                                                                                                                                                                                                                                                                                                                                                                                                                                                                                                                                                                                                                                                                                                                                                                                                                                                                                                                                                                                                                                                                                                                                                                                                                                                                                                                                                                                                                                                                                                                                                                                                                                                                                                                                                                                                                                                                                                                                                                                                                                                                                                                                                                                                                                                                                                                                                                                                                                                                                                                                                                                                                                                                                                                                                                                                                                                                                                                                                                                                                                                                                                                                                                                                                                                                                                                                                                                                                                                                                                                                                                                                                                                                                                                                                                                                                                                                                                                                                                                                                                                                                                                                                                                                                                                                                                                                                                                                                                                                                                                                                                                                                                                                                                                                                                                                                                                                                                                                                                                                                                                                                                                                                                                                                                                                                                        |\n+------------+-------------------+---------------------------------+-------------+----------------------+-----------+-----------+--------+---------+--------+------------+-------------+-------+-----------+---------+--------+---------+--------+-------+----+----+---------------------------------------------------------------------------------------------------------------------------------------------------------------------------------------------------------------------------------------------------------------------------------------------------------------------------------------------------------------------------------------------------------------------------------------------------------------------------------------------------------------------------------------------------------------------------------------------------------------------------------------------------------------------------------------------------------------------------------------------------------------------------------------------------------------------------------------------------------------------------------------------------------------------------------------------------------------------------------------------------------------------------------------------------------------------------------------------------------------------------------------------------------------------------------------------------------------------------------------------------------------------------------------------------------------------------------------------------------------------------------------------------------------------------------------------------------------------------------------------------------------------------------------------------------------------------------------------------------------------------------------------------------------------------------------------------------------------------------------------------------------------------------------------------------------------------------------------------------------------------------------------------------------------------------------------------------------------------------------------------------------------------------------------------------------------------------------------------------------------------------------------------------------------------------------------------------------------------------------------------------------------------------------------------------------------------------------------------------------------------------------------------------------------------------------------------------------------------------------------------------------------------------------------------------------------------------------------------------------------------------------------------------------------------------------------------------------------------------------------------------------------------------------------------------------------------------------------------------------------------------------------------------------------------------------------------------------------------------------------------------------------------------------------------------------------------------------------------------------------------------------------------------------------------------------------------------------------------------------------------------------------------------------------------------------------------------------------------------------------------------------------------------------------------------------------------------------------------------------------------------------------------------------------------------------------------------------------------------------------------------------------------------------------------------------------------------------------------------------------------------------------------------------------------------------------------------------------------------------------------------------------------------------------------------------------------------------------------------------------------------------------------------------------------------------------------------------------------------------------------------------------------------------------------------------------------------------------------------------------------------------------------------------------------------------------------------------------------------------------------------------------------------------------------------------------------------------------------------------------------------------------------------------------------------------------------------------------------------------------------------------------------------------------------------------------------------------------------------------------------------------------------------------------------------------------------------------------------------------------------------------------------------------------------------------------------------------------------------------------------------------------------------------------------------------------------------------------------------------------------------------------------------------------------------------------------------------------------------------------------------------------------------------------------------------------------------------------------------------------------------------------------------------------------------------------------------------------------------------------------------------------------------------------------------------------------------------------------------------------------------------------------+\n|4601        |4602               |Jammu Tawi Udhampur Special      |JAT          |JAMMU TAWI            |UHP        |UDHAMPUR   |12:15:00|10:40:00 |53      |1           |35           |       |false      |false    |false   |false    |false   |false  |DEMU|NR  |[[74.880117, 32.706975], [74.953339, 32.762368], [75.044078, 32.80617], [75.13222499999999, 32.769105], [75.14542599999999, 32.863528], [75.154881, 32.92664]]                                                                                                                                                                                                                                                                                                                                                                                                                                                                                                                                                                                                                                                                                                                                                                                                                                                                                                                                                                                                                                                                                                                                                                                                                                                                                                                                                                                                                                                                                                                                                                                                                                                                                                                                                                                                                                                                                                                                                                                                                                                                                                                                                                                                                                                                                                                                                                                                                                                                                                                                                                                                                                                                                                                                                                                                                                                                                                                                                                                                                                                                                                                                                                     \n\n*** WARNING: max output size exceeded, skipping output. ***\n\n                                                                                                                                                                                                                                                                                                                                                                                                                                                                                                                                                                                                                                                                                                                                                                                                                                                                                                                                                                                                                                                                                                                                                                                                                                                                                                                                                                                                                                                                                                                                                                                                                                                                                                                                                                                                                                                                                                                                                                                                                                                                                                                                                                                                                                                                                                         |\n|4603        |4604               |JAT UDAHMPUR DMU                 |JAT          |JAMMU TAWI            |UHP        |UDHAMPUR   |17:50:00|16:15:00 |53      |1           |35           |       |false      |false    |false   |false    |false   |false  |DEMU|NR  |[[74.880117, 32.706975], [74.953339, 32.762368], [75.044078, 32.80617], [75.13222499999999, 32.769105], [75.14542599999999, 32.863528], [75.154881, 32.92664]]                                                                                                                                                                                                                                                                                                                                                                                                                                                                                                                                                                                                                                                                                                                                                                                                                                                                                                                                                                                                                                                                                                                                                                                                                                                                                                                                                                                                                                                                                                                                                                                                                                                                                                                                                                                                                                                                                                                                                                                                                                                                                                                                                                                                                                                                                                                                                                                                                                                                                                                                                                                                                                                                                                                                                                                                                                                                                                                                                                                                                                                                                                                                                                                                                                                                                                                                                                                                                                                                                                                                                                                                                                                                                                                                                                                                                                                                                                                                                                                                                                                                                                                                                                                                                                                                                                                                                                                                                                                                                                                                                                                                                                                                                                                                                                                                                                                                                                                                                                                                                                                                                                                                                                                                                                                                                                                                                                                                                                                                                     |\n|4604        |4603               |UDHAMPUR JAMMUTAWI DMU           |UHP          |UDHAMPUR              |JAT        |JAMMU TAWI |19:50:00|18:20:00 |53      |1           |30           |       |false      |false    |false   |false    |false   |false  |DEMU|NR  |[[75.154881, 32.92664], [75.14542599999999, 32.863528], [75.13222499999999, 32.769105], [75.044078, 32.80617], [74.953339, 32.762368], [74.880117, 32.706975]]                                                                                                                                                                                                                                                                                                                                                                                                                                                                                                                                                                                                                                                                                                                                                                                                                                                                                                                                                                                                                                                                                                                                                                                                                                                                                                                                                                                                                                                                                                                                                                                                                                                                                                                                                                                                                                                                                                                                                                                                                                                                                                                                                                                                                                                                                                                                                                                                                                                                                                                                                                                                                                                                                                                                                                                                                                                                                                                                                                                                                                                                                                                                                                                                                                                                                                                                                                                                                                                                                                                                                                                                                                                                                                                                                                                                                                                                                                                                                                                                                                                                                                                                                                                                                                                                                                                                                                                                                                                                                                                                                                                                                                                                                                                                                                                                                                                                                                                                                                                                                                                                                                                                                                                                                                                                                                                                                                                                                                                                                     |\n|4728        |4727               |Mumbai BandraT-Bikaner SF Special|BDTS         |MUMBAI BANDRA TERMINUS|BKN        |BIKANER JN |12:30:00|14:35:00 |1212    |21          |55           |       |false      |false    |false   |true     |true    |true   |SF  |NWR |[[72.840535, 19.061911], [72.840078, 19.069166], [72.84133899999999, 19.082018], [72.84363, 19.099273999999998], [72.84685300000001, 19.1174289], [72.84906600000001, 19.136550999999997], [72.849389, 19.164447], [72.84917, 19.187089], [72.852098, 19.204551], [72.85641199999999, 19.228739], [72.859587, 19.250166], [72.856072, 19.280299], [72.85303900000001, 19.311766], [72.845954, 19.350875], [72.8322217, 19.3824486], [72.819464, 19.418238000000002], [72.811737, 19.454407], [72.849578, 19.517672], [72.82182599999999, 19.576592], [72.79082100000001, 19.624601000000002], [72.77248, 19.698038], [72.76033699999999, 19.754447000000003], [72.76189900000001, 19.7985273], [72.76318500000001, 19.882845], [72.74336799999999, 19.991217], [72.73799100000001, 20.08688], [72.766138, 20.122424], [72.79082100000001, 20.153499], [72.820594, 20.19165], [72.887446, 20.275323200000003], [72.90153400000001, 20.316435], [72.90912700000001, 20.374337999999998], [72.918698, 20.461236], [72.92431099999999, 20.513153], [72.9271335858, 20.544593354], [72.9335291, 20.6085595], [72.949119, 20.687336000000002], [72.96576, 20.729778], [72.970474, 20.763319], [72.956092, 20.811373000000003], [72.944978, 20.845167], [72.93641500000001, 20.874651], [72.914294, 20.946851], [72.88999799999999, 21.019949], [72.874083, 21.077673], [72.8613128, 21.1278829], [72.851461, 21.171156], [72.840793, 21.206568], [72.85479600000001, 21.232602], [72.86573000000001, 21.255892], [72.880104, 21.294043], [72.890287, 21.317203], [72.91647999999999, 21.37682], [72.926702, 21.399697], [72.95459799999999, 21.464052], [72.969512, 21.501091000000002], [72.978371, 21.535197], [73.000633, 21.623889], [72.997689, 21.706907], [73.010489, 21.753134000000003], [73.030592, 21.807541], [73.048979, 21.85838], [73.072387, 21.921578], [73.09899399999999, 21.991872], [73.119763, 22.050131999999998], [73.120353, 22.050722], [73.145838, 22.120085999999997], [73.156746, 22.149889], [73.16928300000001, 22.184274000000002], [73.175422, 22.232706], [73.178656, 22.283932999999998], [73.181065, 22.310756], [73.1431251, 22.3662226], [73.1122662115, 22.405252095399998], [73.0952734283, 22.418331636999998], [73.05999100000001, 22.452351], [73.0346944543, 22.486628078200003], [73.00645, 22.515278000000002], [72.965733, 22.561307], [72.921535, 22.614849], [72.88880999999999, 22.654716], [72.855718, 22.694105999999998], [72.8013557965, 22.759953846400002], [72.752481, 22.819556000000002], [72.725207, 22.847183], [72.705473, 22.867203999999997], [72.6778863, 22.895426699999998], [72.65515099999999, 22.917292], [72.6294363164, 22.959728549199998], [72.610413, 23.000142], [72.601516, 23.025515], [72.587162, 23.072985], [72.58928200000001, 23.077545999999998], [72.57787300000001, 23.097473], [72.563224, 23.111868], [72.543606, 23.074516000000003], [72.548244, 23.156554], [72.520002, 23.2126], [72.50363, 23.244576000000002], [72.46851799999999, 23.26246], [72.484975, 23.294039], [72.47975, 23.307875], [72.471355, 23.326699], [72.449853, 23.378698999999997], [72.44125299999999, 23.401485], [72.428861, 23.427144], [72.423181, 23.447386], [72.40164899999999, 23.521841], [72.394212, 23.542306999999997], [72.388708, 23.602623], [72.38933899999999, 23.709061000000002], [72.381669, 23.796456], [72.375949, 23.863182], [72.367959, 23.918067], [72.378575, 23.960815999999998], [72.40022099999999, 24.034518000000002], [72.4205625555, 24.1003209724], [72.430172, 24.174433], [72.45567100000001, 24.218469000000002], [72.488653, 24.267557999999998], [72.507154, 24.291967], [72.5337815405, 24.3460328561], [72.592045, 24.377144], [72.643675, 24.405948], [72.70044, 24.432277], [72.775695, 24.470775], [72.8034186484, 24.502604961899998], [72.8424186963, 24.5405071601], [72.886302, 24.595571], [72.9319259351, 24.6581702628], [72.98872560000001, 24.7131638], [73.039834, 24.791042], [73.07132899999999, 24.856164], [73.110095, 24.925895], [73.123647, 24.980982], [73.136306, 25.035574999999998], [73.14732500000001, 25.114043000000002], [73.192517, 25.170546], [73.23495299999999, 25.235808], [73.279577, 25.300189], [73.31039, 25.347582], [73.36331200000001, 25.419012000000002], [73.39687099999999, 25.462722], [73.450999, 25.520225999999997], [73.4924808, 25.5596627], [73.52738176000001, 25.60180707], [73.564613, 25.665207000000002], [73.609301, 25.720478999999997], [73.52353600000001, 25.75038], [73.43942509, 25.78029392], [73.327309, 25.790692], [73.0953188199, 25.921475609399998], [73.003175, 26.001255999999998], [73.005205, 26.059514], [73.01452424259999, 26.139957444700002], [73.010639, 26.222963], [73.0133366, 26.2484972], [73.02319, 26.283765], [73.039744, 26.291628000000003], [73.146431, 26.33951], [73.2228278314, 26.3680583662], [73.30532500000001, 26.397374], [73.3907543195, 26.4285105345], [73.448703, 26.452849999999998], [73.509748, 26.48978], [73.605896, 26.549322], [73.686313, 26.609843], [73.737284, 26.652200999999998], [73.818142, 26.697862], [73.917896, 26.728077000000003], [73.9073942175, 26.7834880329], [73.885443, 26.850374000000002], [73.861764, 26.923262], [73.815965, 27.063606], [73.72357199999999, 27.199991], [73.663015, 27.311355], [73.58576799999999, 27.337097], [73.5373822888, 27.416761083900003], [73.52546099999999, 27.446624], [73.47484800000001, 27.556203], [73.442249, 27.706677000000003], [73.338483, 27.791303], [73.273605, 27.845285999999998], [73.3438365942, 27.922973867499998], [73.31659800000001, 28.014139]]|\n+------------+-------------------+---------------------------------+-------------+----------------------+-----------+-----------+--------+---------+--------+------------+-------------+-------+-----------+---------+--------+---------+--------+-------+----+----+---------------------------------------------------------------------------------------------------------------------------------------------------------------------------------------------------------------------------------------------------------------------------------------------------------------------------------------------------------------------------------------------------------------------------------------------------------------------------------------------------------------------------------------------------------------------------------------------------------------------------------------------------------------------------------------------------------------------------------------------------------------------------------------------------------------------------------------------------------------------------------------------------------------------------------------------------------------------------------------------------------------------------------------------------------------------------------------------------------------------------------------------------------------------------------------------------------------------------------------------------------------------------------------------------------------------------------------------------------------------------------------------------------------------------------------------------------------------------------------------------------------------------------------------------------------------------------------------------------------------------------------------------------------------------------------------------------------------------------------------------------------------------------------------------------------------------------------------------------------------------------------------------------------------------------------------------------------------------------------------------------------------------------------------------------------------------------------------------------------------------------------------------------------------------------------------------------------------------------------------------------------------------------------------------------------------------------------------------------------------------------------------------------------------------------------------------------------------------------------------------------------------------------------------------------------------------------------------------------------------------------------------------------------------------------------------------------------------------------------------------------------------------------------------------------------------------------------------------------------------------------------------------------------------------------------------------------------------------------------------------------------------------------------------------------------------------------------------------------------------------------------------------------------------------------------------------------------------------------------------------------------------------------------------------------------------------------------------------------------------------------------------------------------------------------------------------------------------------------------------------------------------------------------------------------------------------------------------------------------------------------------------------------------------------------------------------------------------------------------------------------------------------------------------------------------------------------------------------------------------------------------------------------------------------------------------------------------------------------------------------------------------------------------------------------------------------------------------------------------------------------------------------------------------------------------------------------------------------------------------------------------------------------------------------------------------------------------------------------------------------------------------------------------------------------------------------------------------------------------------------------------------------------------------------------------------------------------------------------------------------------------------------------------------------------------------------------------------------------------------------------------------------------------------------------------------------------------------------------------------------------------------------------------------------------------------------------------------------------------------------------------------------------------------------------------------------------------------------------------------------------------------------------------------------------------------------------------------------------------------------------------------------------------------------------------------------------------------------------------------------------------------------------------------------------------------------------------------------------------------------------------------------------------------------------------------------------------------------------------------------------------------------+\nonly showing top 5 rows\n\n"
     ]
    }
   ],
   "source": [
    "#Importing trains.json file\n",
    "trains_df = spark.read.option(\"multiline\",\"true\").json(\"dbfs:/FileStore/shared_uploads/brijeshpatel4547@gmail.com/Indian_Rail/trains.json\")\n",
    "print(\"**********************************************************************************************************\")\n",
    "print(\"Schema Before Transformation:\")\n",
    "trains_df.printSchema()\n",
    "print()\n",
    "print(\"**********************************************************************************************************\")\n",
    "\n",
    "\n",
    "# As we have array of structs we can simplify this using inline transformation.\n",
    "trains_df = trains_df.select(\n",
    "    inline(col(\"features\"))\n",
    ").drop(\"type\")\n",
    "print(\"Schema After Inline Transformation:\")\n",
    "trains_df.printSchema()\n",
    "print()\n",
    "print(\"**********************************************************************************************************\")\n",
    "\n",
    "# Now from the schema of the trains we can now identify the features required and export them to our final dataframe and cast them into required data types.\n",
    "#Note: Uncasted columns are already in th required formats\n",
    "trains_df = trains_df.select(\n",
    "    col(\"properties.number\").alias(\"Train_Number\").cast(\"long\"), \n",
    "    col(\"properties.return_train\").alias(\"Return_Train_Number\").cast(\"long\"),\n",
    "    col(\"properties.name\").alias(\"Train_Name\"),\n",
    "    col(\"properties.from_station_code\").alias(\"From_Stn_Code\"),\n",
    "    col(\"properties.from_station_name\").alias(\"From_Stn_Name\"),\n",
    "    col(\"properties.to_station_code\").alias(\"To_Stn_Code\"),\n",
    "    col(\"properties.to_station_name\").alias(\"To_Stn_Name\"),\n",
    "    col(\"properties.arrival\").alias(\"Arrival\"),\n",
    "    col(\"properties.departure\").alias(\"Departure\"),\n",
    "    col(\"properties.distance\").alias(\"Distance\"),\n",
    "    col(\"properties.duration_h\").alias(\"Duration_Hrs\"),\n",
    "    col(\"properties.duration_m\").alias(\"Duration_Mins\"),\n",
    "    col(\"properties.classes\").alias(\"Classes\"),\n",
    "    col(\"properties.first_class\").alias(\"First_Class\").cast(\"boolean\"),\n",
    "    col(\"properties.chair_car\").alias(\"Chair_car\").cast(\"boolean\"),\n",
    "    col(\"properties.first_ac\").alias(\"First_Ac\").cast(\"boolean\"),\n",
    "    col(\"properties.second_ac\").alias(\"Second_AC\").cast(\"boolean\"),\n",
    "    col(\"properties.third_ac\").alias(\"Third_AC\").cast(\"boolean\"),\n",
    "    col(\"properties.sleeper\").alias(\"Sleeper\").cast(\"boolean\"),\n",
    "    col(\"properties.type\").alias(\"Type\"),\n",
    "    col(\"properties.zone\").alias(\"Zone\"),\n",
    "    col(\"geometry.coordinates\").alias(\"Coordinates\")  \n",
    ")\n",
    "\n",
    "print(\"Final Schema:\")\n",
    "trains_df.printSchema()\n",
    "print()\n",
    "print(\"**********************************************************************************************************\")\n",
    "print()\n",
    "\n",
    "\n",
    "print(\"Sample Data: \")\n",
    "trains_df.show(n=5,truncate=False)"
   ]
  },
  {
   "cell_type": "code",
   "execution_count": 0,
   "metadata": {
    "application/vnd.databricks.v1+cell": {
     "cellMetadata": {},
     "inputWidgets": {},
     "nuid": "aca69c6f-c6f6-48c6-a417-9b3ea594a81e",
     "showTitle": false,
     "tableResultSettingsMap": {},
     "title": ""
    }
   },
   "outputs": [],
   "source": []
  }
 ],
 "metadata": {
  "application/vnd.databricks.v1+notebook": {
   "computePreferences": null,
   "dashboards": [],
   "environmentMetadata": {
    "base_environment": "",
    "client": "1"
   },
   "language": "python",
   "notebookMetadata": {
    "pythonIndentUnit": 4
   },
   "notebookName": "Final_Indian_Railways",
   "widgets": {}
  }
 },
 "nbformat": 4,
 "nbformat_minor": 0
}
